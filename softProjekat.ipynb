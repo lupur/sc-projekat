{
 "cells": [
  {
   "cell_type": "code",
   "execution_count": 2,
   "metadata": {
    "collapsed": false
   },
   "outputs": [],
   "source": [
    "import cv2\n",
    "import numpy as np\n",
    "import math\n",
    "cap = cv2.VideoCapture(0)\n",
    "while(cap.isOpened()):\n",
    "    ret, img = cap.read()\n",
    "    crop_img = img[0:300, 0:300]\n",
    "    grey = cv2.cvtColor(crop_img, cv2.COLOR_BGR2GRAY)\n",
    "    value = (5, 5)\n",
    "    blurred = cv2.GaussianBlur(grey, value, 15)\n",
    "    _, thresh1 = cv2.threshold(blurred, 127, 255, cv2.THRESH_BINARY_INV+cv2.THRESH_OTSU)\n",
    "    img,contours, hierarchy = cv2.findContours(thresh1.copy(),cv2.RETR_TREE, \\\n",
    "            cv2.CHAIN_APPROX_NONE)\n",
    "    max_area = -1\n",
    "    for i in range(len(contours)):  #trazimo najvecu konturu\n",
    "        cnt=contours[i]\n",
    "        area = cv2.contourArea(cnt)\n",
    "        if(area>max_area):\n",
    "            max_area=area\n",
    "            ci=i\n",
    "    cnt=contours[ci]\n",
    "    x,y,w,h = cv2.boundingRect(cnt)   #uzimamo koordinate, duzinu i sirinu najvece konture\n",
    "    #cv2.rectangle(crop_img,(x,y),(x+w,y+h),(0,0,255),0) #crtamo pravougaonik oko konture\n",
    "    hull = cv2.convexHull(cnt)  #vraca konveksan oblik sake\n",
    "    drawing = np.zeros(crop_img.shape,np.uint8)\n",
    "    cv2.drawContours(drawing,[cnt],0,(0,255,0),0)  #crta saku kakva jeste\n",
    "    cv2.drawContours(drawing,[hull],0,(0,0,255),0) # crta konveksnu sa\n",
    "    hull = cv2.convexHull(cnt,returnPoints = False)\n",
    "    defects = cv2.convexityDefects(cnt,hull)\n",
    "    count_defects = 0\n",
    "    #cv2.drawContours(thresh1, contours, -1, (0,255,0), 3)\n",
    "    for i in range(defects.shape[0]):\n",
    "        s,e,f,d = defects[i,0]\n",
    "        #s-pocetak defekta\n",
    "        #e-kraj defekta\n",
    "        #f-najdalja tacka defekta\n",
    "        #udaljenost izmedju f i konveksnog mnogougla\n",
    "        start = tuple(cnt[s][0])\n",
    "        end = tuple(cnt[e][0])\n",
    "        far = tuple(cnt[f][0])\n",
    "        a = math.sqrt((end[0] - start[0])**2 + (end[1] - start[1])**2)\n",
    "        b = math.sqrt((far[0] - start[0])**2 + (far[1] - start[1])**2)\n",
    "        c = math.sqrt((end[0] - far[0])**2 + (end[1] - far[1])**2)\n",
    "        angle = math.acos((b**2 + c**2 - a**2)/(2*b*c)) * 57\n",
    "        if angle <= 90:\n",
    "            count_defects += 1\n",
    "            #cv2.circle(crop_img,far,1,[255,255,255],-1)\n",
    "            cv2.circle(drawing, far, 2, [255,255,255],-1)\n",
    "        #cv2.line(crop_img,start,end,[0,255,0],2)\n",
    "    all_img = np.hstack((crop_img,drawing))\n",
    "    cv2.imshow('Ruka ruku mije', all_img)\n",
    "    cv2.imshow('Threshold', thresh1 )\n",
    "    if cv2.waitKey(1) & 0xFF == ord('q'):\n",
    "        break\n",
    "        \n",
    "cap.release()\n",
    "cv2.destroyAllWindows()\n"
   ]
  }
 ],
 "metadata": {
  "kernelspec": {
   "display_name": "Python 2",
   "language": "python",
   "name": "python2"
  },
  "language_info": {
   "codemirror_mode": {
    "name": "ipython",
    "version": 2
   },
   "file_extension": ".py",
   "mimetype": "text/x-python",
   "name": "python",
   "nbconvert_exporter": "python",
   "pygments_lexer": "ipython2",
   "version": "2.7.11"
  }
 },
 "nbformat": 4,
 "nbformat_minor": 0
}
